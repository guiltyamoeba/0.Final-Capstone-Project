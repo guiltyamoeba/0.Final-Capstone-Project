{
 "cells": [
  {
   "cell_type": "markdown",
   "id": "782adc47-7047-42d8-b657-7474f1cb899e",
   "metadata": {},
   "source": [
    "# Attendance and Stadium analysis"
   ]
  },
  {
   "cell_type": "code",
   "execution_count": 69,
   "id": "6e465423-82f0-40c3-a48c-5c0bd9977015",
   "metadata": {},
   "outputs": [],
   "source": [
    "#Import necessary libraries\n",
    "import pandas as pd\n",
    "import numpy as np\n",
    "import matplotlib.pyplot as plt\n",
    "import seaborn as sns\n",
    "from sklearn import preprocessing\n",
    "from sklearn.preprocessing import StandardScaler\n",
    "from sklearn.model_selection import train_test_split\n",
    "import warnings\n",
    "warnings.simplefilter(\"ignore\")"
   ]
  },
  {
   "cell_type": "code",
   "execution_count": 71,
   "id": "05a3664e-4b85-44eb-a97e-af23f220626d",
   "metadata": {},
   "outputs": [
    {
     "data": {
      "text/html": [
       "<div>\n",
       "<style scoped>\n",
       "    .dataframe tbody tr th:only-of-type {\n",
       "        vertical-align: middle;\n",
       "    }\n",
       "\n",
       "    .dataframe tbody tr th {\n",
       "        vertical-align: top;\n",
       "    }\n",
       "\n",
       "    .dataframe thead th {\n",
       "        text-align: right;\n",
       "    }\n",
       "</style>\n",
       "<table border=\"1\" class=\"dataframe\">\n",
       "  <thead>\n",
       "    <tr style=\"text-align: right;\">\n",
       "      <th></th>\n",
       "      <th>appearance_id</th>\n",
       "      <th>game_id_x</th>\n",
       "      <th>player_id_x</th>\n",
       "      <th>competition_id_x</th>\n",
       "      <th>yellow_cards</th>\n",
       "      <th>red_cards</th>\n",
       "      <th>goals</th>\n",
       "      <th>assists</th>\n",
       "      <th>minutes_played</th>\n",
       "      <th>season</th>\n",
       "      <th>...</th>\n",
       "      <th>player_code</th>\n",
       "      <th>country_of_birth</th>\n",
       "      <th>date_of_birth</th>\n",
       "      <th>sub_position</th>\n",
       "      <th>position_y</th>\n",
       "      <th>foot</th>\n",
       "      <th>height_in_cm</th>\n",
       "      <th>market_value_in_eur</th>\n",
       "      <th>highest_market_value_in_eur</th>\n",
       "      <th>contract_expiration_date</th>\n",
       "    </tr>\n",
       "  </thead>\n",
       "  <tbody>\n",
       "    <tr>\n",
       "      <th>0</th>\n",
       "      <td>2231426_49723</td>\n",
       "      <td>2231426</td>\n",
       "      <td>49723</td>\n",
       "      <td>L1</td>\n",
       "      <td>0</td>\n",
       "      <td>0</td>\n",
       "      <td>0</td>\n",
       "      <td>0</td>\n",
       "      <td>70</td>\n",
       "      <td>2012</td>\n",
       "      <td>...</td>\n",
       "      <td>timothy-chandler</td>\n",
       "      <td>Germany</td>\n",
       "      <td>1990-03-29</td>\n",
       "      <td>Right-Back</td>\n",
       "      <td>Defender</td>\n",
       "      <td>right</td>\n",
       "      <td>186</td>\n",
       "      <td>700000.0</td>\n",
       "      <td>5000000</td>\n",
       "      <td>2025-06-30 00:00:00.000000000</td>\n",
       "    </tr>\n",
       "    <tr>\n",
       "      <th>1</th>\n",
       "      <td>2231426_49723</td>\n",
       "      <td>2231426</td>\n",
       "      <td>49723</td>\n",
       "      <td>L1</td>\n",
       "      <td>0</td>\n",
       "      <td>0</td>\n",
       "      <td>0</td>\n",
       "      <td>0</td>\n",
       "      <td>70</td>\n",
       "      <td>2012</td>\n",
       "      <td>...</td>\n",
       "      <td>timothy-chandler</td>\n",
       "      <td>Germany</td>\n",
       "      <td>1990-03-29</td>\n",
       "      <td>Right-Back</td>\n",
       "      <td>Defender</td>\n",
       "      <td>right</td>\n",
       "      <td>186</td>\n",
       "      <td>700000.0</td>\n",
       "      <td>5000000</td>\n",
       "      <td>2025-06-30 00:00:00.000000000</td>\n",
       "    </tr>\n",
       "    <tr>\n",
       "      <th>2</th>\n",
       "      <td>2231426_49723</td>\n",
       "      <td>2231426</td>\n",
       "      <td>49723</td>\n",
       "      <td>L1</td>\n",
       "      <td>0</td>\n",
       "      <td>0</td>\n",
       "      <td>0</td>\n",
       "      <td>0</td>\n",
       "      <td>70</td>\n",
       "      <td>2012</td>\n",
       "      <td>...</td>\n",
       "      <td>timothy-chandler</td>\n",
       "      <td>Germany</td>\n",
       "      <td>1990-03-29</td>\n",
       "      <td>Right-Back</td>\n",
       "      <td>Defender</td>\n",
       "      <td>right</td>\n",
       "      <td>186</td>\n",
       "      <td>700000.0</td>\n",
       "      <td>5000000</td>\n",
       "      <td>2025-06-30 00:00:00.000000000</td>\n",
       "    </tr>\n",
       "    <tr>\n",
       "      <th>3</th>\n",
       "      <td>2231426_49723</td>\n",
       "      <td>2231426</td>\n",
       "      <td>49723</td>\n",
       "      <td>L1</td>\n",
       "      <td>0</td>\n",
       "      <td>0</td>\n",
       "      <td>0</td>\n",
       "      <td>0</td>\n",
       "      <td>70</td>\n",
       "      <td>2012</td>\n",
       "      <td>...</td>\n",
       "      <td>timothy-chandler</td>\n",
       "      <td>Germany</td>\n",
       "      <td>1990-03-29</td>\n",
       "      <td>Right-Back</td>\n",
       "      <td>Defender</td>\n",
       "      <td>right</td>\n",
       "      <td>186</td>\n",
       "      <td>700000.0</td>\n",
       "      <td>5000000</td>\n",
       "      <td>2025-06-30 00:00:00.000000000</td>\n",
       "    </tr>\n",
       "    <tr>\n",
       "      <th>4</th>\n",
       "      <td>2231426_49723</td>\n",
       "      <td>2231426</td>\n",
       "      <td>49723</td>\n",
       "      <td>L1</td>\n",
       "      <td>0</td>\n",
       "      <td>0</td>\n",
       "      <td>0</td>\n",
       "      <td>0</td>\n",
       "      <td>70</td>\n",
       "      <td>2012</td>\n",
       "      <td>...</td>\n",
       "      <td>timothy-chandler</td>\n",
       "      <td>Germany</td>\n",
       "      <td>1990-03-29</td>\n",
       "      <td>Right-Back</td>\n",
       "      <td>Defender</td>\n",
       "      <td>right</td>\n",
       "      <td>186</td>\n",
       "      <td>700000.0</td>\n",
       "      <td>5000000</td>\n",
       "      <td>2025-06-30 00:00:00.000000000</td>\n",
       "    </tr>\n",
       "  </tbody>\n",
       "</table>\n",
       "<p>5 rows × 48 columns</p>\n",
       "</div>"
      ],
      "text/plain": [
       "   appearance_id  game_id_x  player_id_x competition_id_x  yellow_cards  \\\n",
       "0  2231426_49723    2231426        49723               L1             0   \n",
       "1  2231426_49723    2231426        49723               L1             0   \n",
       "2  2231426_49723    2231426        49723               L1             0   \n",
       "3  2231426_49723    2231426        49723               L1             0   \n",
       "4  2231426_49723    2231426        49723               L1             0   \n",
       "\n",
       "   red_cards  goals  assists  minutes_played  season  ...       player_code  \\\n",
       "0          0      0        0              70    2012  ...  timothy-chandler   \n",
       "1          0      0        0              70    2012  ...  timothy-chandler   \n",
       "2          0      0        0              70    2012  ...  timothy-chandler   \n",
       "3          0      0        0              70    2012  ...  timothy-chandler   \n",
       "4          0      0        0              70    2012  ...  timothy-chandler   \n",
       "\n",
       "   country_of_birth  date_of_birth  sub_position  position_y   foot  \\\n",
       "0           Germany     1990-03-29    Right-Back    Defender  right   \n",
       "1           Germany     1990-03-29    Right-Back    Defender  right   \n",
       "2           Germany     1990-03-29    Right-Back    Defender  right   \n",
       "3           Germany     1990-03-29    Right-Back    Defender  right   \n",
       "4           Germany     1990-03-29    Right-Back    Defender  right   \n",
       "\n",
       "  height_in_cm market_value_in_eur  highest_market_value_in_eur  \\\n",
       "0          186            700000.0                      5000000   \n",
       "1          186            700000.0                      5000000   \n",
       "2          186            700000.0                      5000000   \n",
       "3          186            700000.0                      5000000   \n",
       "4          186            700000.0                      5000000   \n",
       "\n",
       "        contract_expiration_date  \n",
       "0  2025-06-30 00:00:00.000000000  \n",
       "1  2025-06-30 00:00:00.000000000  \n",
       "2  2025-06-30 00:00:00.000000000  \n",
       "3  2025-06-30 00:00:00.000000000  \n",
       "4  2025-06-30 00:00:00.000000000  \n",
       "\n",
       "[5 rows x 48 columns]"
      ]
     },
     "execution_count": 71,
     "metadata": {},
     "output_type": "execute_result"
    }
   ],
   "source": [
    "df=pd.read_csv(\"C:/Users/91918/OneDrive/Desktop/SUDHEERA/DataScience with Gen Ai/Course-10 capstone/Football_data_merged_cleaned_data.csv\")\n",
    "df.head()"
   ]
  },
  {
   "cell_type": "code",
   "execution_count": 73,
   "id": "9484b1f2-aa83-4515-b847-894b6ad7805c",
   "metadata": {},
   "outputs": [
    {
     "name": "stdout",
     "output_type": "stream",
     "text": [
      "<class 'pandas.core.frame.DataFrame'>\n",
      "RangeIndex: 4199 entries, 0 to 4198\n",
      "Data columns (total 48 columns):\n",
      " #   Column                       Non-Null Count  Dtype  \n",
      "---  ------                       --------------  -----  \n",
      " 0   appearance_id                4199 non-null   object \n",
      " 1   game_id_x                    4199 non-null   int64  \n",
      " 2   player_id_x                  4199 non-null   int64  \n",
      " 3   competition_id_x             4199 non-null   object \n",
      " 4   yellow_cards                 4199 non-null   int64  \n",
      " 5   red_cards                    4199 non-null   int64  \n",
      " 6   goals                        4199 non-null   int64  \n",
      " 7   assists                      4199 non-null   int64  \n",
      " 8   minutes_played               4199 non-null   int64  \n",
      " 9   season                       4199 non-null   int64  \n",
      " 10  round                        4199 non-null   object \n",
      " 11  home_club_goals              4199 non-null   int64  \n",
      " 12  away_club_goals              4199 non-null   int64  \n",
      " 13  home_club_position           4199 non-null   float64\n",
      " 14  away_club_position           4199 non-null   float64\n",
      " 15  home_club_manager_name       4199 non-null   object \n",
      " 16  away_club_manager_name       4199 non-null   object \n",
      " 17  stadium                      4199 non-null   object \n",
      " 18  attendance                   4199 non-null   float64\n",
      " 19  referee                      4199 non-null   object \n",
      " 20  home_club_name               4199 non-null   object \n",
      " 21  away_club_name               4199 non-null   object \n",
      " 22  aggregate                    4199 non-null   object \n",
      " 23  competition_type             4199 non-null   object \n",
      " 24  game_event_id                4199 non-null   object \n",
      " 25  date                         4199 non-null   object \n",
      " 26  minute                       4199 non-null   int64  \n",
      " 27  type_x                       4199 non-null   object \n",
      " 28  game_lineups_id              4199 non-null   object \n",
      " 29  type_y                       4199 non-null   object \n",
      " 30  number                       4199 non-null   int64  \n",
      " 31  player_id                    4199 non-null   int64  \n",
      " 32  player_name_y                4199 non-null   object \n",
      " 33  team_captain                 4199 non-null   int64  \n",
      " 34  position_x                   4199 non-null   object \n",
      " 35  name                         4199 non-null   object \n",
      " 36  last_season                  4199 non-null   int64  \n",
      " 37  current_club_id              4199 non-null   int64  \n",
      " 38  player_code                  4199 non-null   object \n",
      " 39  country_of_birth             4199 non-null   object \n",
      " 40  date_of_birth                4199 non-null   object \n",
      " 41  sub_position                 4199 non-null   object \n",
      " 42  position_y                   4199 non-null   object \n",
      " 43  foot                         4199 non-null   object \n",
      " 44  height_in_cm                 4199 non-null   int64  \n",
      " 45  market_value_in_eur          4199 non-null   float64\n",
      " 46  highest_market_value_in_eur  4199 non-null   int64  \n",
      " 47  contract_expiration_date     4199 non-null   object \n",
      "dtypes: float64(4), int64(18), object(26)\n",
      "memory usage: 1.5+ MB\n"
     ]
    }
   ],
   "source": [
    "df.info()"
   ]
  },
  {
   "cell_type": "markdown",
   "id": "8b7cff36-db08-4749-b2cc-318c4f77759c",
   "metadata": {},
   "source": [
    "### KNN Classification:"
   ]
  },
  {
   "cell_type": "code",
   "execution_count": 76,
   "id": "1cbb383b-f508-44fe-849c-cdb9cdace625",
   "metadata": {},
   "outputs": [],
   "source": [
    "df = pd.DataFrame(df)"
   ]
  },
  {
   "cell_type": "code",
   "execution_count": 78,
   "id": "ce53fd7e-1ae5-40dc-9f61-3ca10767f864",
   "metadata": {},
   "outputs": [
    {
     "data": {
      "text/html": [
       "<div>\n",
       "<style scoped>\n",
       "    .dataframe tbody tr th:only-of-type {\n",
       "        vertical-align: middle;\n",
       "    }\n",
       "\n",
       "    .dataframe tbody tr th {\n",
       "        vertical-align: top;\n",
       "    }\n",
       "\n",
       "    .dataframe thead th {\n",
       "        text-align: right;\n",
       "    }\n",
       "</style>\n",
       "<table border=\"1\" class=\"dataframe\">\n",
       "  <thead>\n",
       "    <tr style=\"text-align: right;\">\n",
       "      <th></th>\n",
       "      <th>attendance</th>\n",
       "      <th>competition_type</th>\n",
       "      <th>stadium</th>\n",
       "      <th>goals</th>\n",
       "      <th>player_name_y</th>\n",
       "      <th>season</th>\n",
       "    </tr>\n",
       "  </thead>\n",
       "  <tbody>\n",
       "    <tr>\n",
       "      <th>0</th>\n",
       "      <td>45033.0</td>\n",
       "      <td>domestic_league</td>\n",
       "      <td>Max-Morlock-Stadion</td>\n",
       "      <td>0</td>\n",
       "      <td>Timothy Chandler</td>\n",
       "      <td>2012</td>\n",
       "    </tr>\n",
       "    <tr>\n",
       "      <th>1</th>\n",
       "      <td>45033.0</td>\n",
       "      <td>domestic_league</td>\n",
       "      <td>Max-Morlock-Stadion</td>\n",
       "      <td>0</td>\n",
       "      <td>Timothy Chandler</td>\n",
       "      <td>2012</td>\n",
       "    </tr>\n",
       "    <tr>\n",
       "      <th>2</th>\n",
       "      <td>45033.0</td>\n",
       "      <td>domestic_league</td>\n",
       "      <td>Max-Morlock-Stadion</td>\n",
       "      <td>0</td>\n",
       "      <td>Timothy Chandler</td>\n",
       "      <td>2012</td>\n",
       "    </tr>\n",
       "    <tr>\n",
       "      <th>3</th>\n",
       "      <td>45033.0</td>\n",
       "      <td>domestic_league</td>\n",
       "      <td>Max-Morlock-Stadion</td>\n",
       "      <td>0</td>\n",
       "      <td>Timothy Chandler</td>\n",
       "      <td>2012</td>\n",
       "    </tr>\n",
       "    <tr>\n",
       "      <th>4</th>\n",
       "      <td>45033.0</td>\n",
       "      <td>domestic_league</td>\n",
       "      <td>Max-Morlock-Stadion</td>\n",
       "      <td>0</td>\n",
       "      <td>Timothy Chandler</td>\n",
       "      <td>2012</td>\n",
       "    </tr>\n",
       "    <tr>\n",
       "      <th>...</th>\n",
       "      <td>...</td>\n",
       "      <td>...</td>\n",
       "      <td>...</td>\n",
       "      <td>...</td>\n",
       "      <td>...</td>\n",
       "      <td>...</td>\n",
       "    </tr>\n",
       "    <tr>\n",
       "      <th>4194</th>\n",
       "      <td>3200.0</td>\n",
       "      <td>domestic_league</td>\n",
       "      <td>Olympisch Stadion</td>\n",
       "      <td>1</td>\n",
       "      <td>Joseph Efford</td>\n",
       "      <td>2020</td>\n",
       "    </tr>\n",
       "    <tr>\n",
       "      <th>4195</th>\n",
       "      <td>3200.0</td>\n",
       "      <td>domestic_league</td>\n",
       "      <td>Olympisch Stadion</td>\n",
       "      <td>1</td>\n",
       "      <td>Joseph Efford</td>\n",
       "      <td>2020</td>\n",
       "    </tr>\n",
       "    <tr>\n",
       "      <th>4196</th>\n",
       "      <td>3200.0</td>\n",
       "      <td>domestic_league</td>\n",
       "      <td>Olympisch Stadion</td>\n",
       "      <td>1</td>\n",
       "      <td>Joseph Efford</td>\n",
       "      <td>2020</td>\n",
       "    </tr>\n",
       "    <tr>\n",
       "      <th>4197</th>\n",
       "      <td>3200.0</td>\n",
       "      <td>domestic_league</td>\n",
       "      <td>Olympisch Stadion</td>\n",
       "      <td>1</td>\n",
       "      <td>Joseph Efford</td>\n",
       "      <td>2020</td>\n",
       "    </tr>\n",
       "    <tr>\n",
       "      <th>4198</th>\n",
       "      <td>3200.0</td>\n",
       "      <td>domestic_league</td>\n",
       "      <td>Olympisch Stadion</td>\n",
       "      <td>1</td>\n",
       "      <td>Joseph Efford</td>\n",
       "      <td>2020</td>\n",
       "    </tr>\n",
       "  </tbody>\n",
       "</table>\n",
       "<p>4199 rows × 6 columns</p>\n",
       "</div>"
      ],
      "text/plain": [
       "      attendance competition_type              stadium  goals  \\\n",
       "0        45033.0  domestic_league  Max-Morlock-Stadion      0   \n",
       "1        45033.0  domestic_league  Max-Morlock-Stadion      0   \n",
       "2        45033.0  domestic_league  Max-Morlock-Stadion      0   \n",
       "3        45033.0  domestic_league  Max-Morlock-Stadion      0   \n",
       "4        45033.0  domestic_league  Max-Morlock-Stadion      0   \n",
       "...          ...              ...                  ...    ...   \n",
       "4194      3200.0  domestic_league    Olympisch Stadion      1   \n",
       "4195      3200.0  domestic_league    Olympisch Stadion      1   \n",
       "4196      3200.0  domestic_league    Olympisch Stadion      1   \n",
       "4197      3200.0  domestic_league    Olympisch Stadion      1   \n",
       "4198      3200.0  domestic_league    Olympisch Stadion      1   \n",
       "\n",
       "         player_name_y  season  \n",
       "0     Timothy Chandler    2012  \n",
       "1     Timothy Chandler    2012  \n",
       "2     Timothy Chandler    2012  \n",
       "3     Timothy Chandler    2012  \n",
       "4     Timothy Chandler    2012  \n",
       "...                ...     ...  \n",
       "4194     Joseph Efford    2020  \n",
       "4195     Joseph Efford    2020  \n",
       "4196     Joseph Efford    2020  \n",
       "4197     Joseph Efford    2020  \n",
       "4198     Joseph Efford    2020  \n",
       "\n",
       "[4199 rows x 6 columns]"
      ]
     },
     "execution_count": 78,
     "metadata": {},
     "output_type": "execute_result"
    }
   ],
   "source": [
    "knn_df = df[['attendance','competition_type','stadium','goals','player_name_y','season']]\n",
    "knn_df"
   ]
  },
  {
   "cell_type": "code",
   "execution_count": 80,
   "id": "6e2038d4-11c3-4a53-8d41-79502c88b02c",
   "metadata": {},
   "outputs": [
    {
     "name": "stdout",
     "output_type": "stream",
     "text": [
      "['domestic_cup' 'domestic_league' 'international_cup' 'other']\n"
     ]
    }
   ],
   "source": [
    "#Label Encoding\n",
    "#encoding for competition_type variable\n",
    "purpose_encoder = preprocessing.LabelEncoder()\n",
    "purpose_encoder.fit(knn_df['competition_type'])\n",
    "print(purpose_encoder.classes_)\n",
    "knn_df['competition_type.enc']=purpose_encoder.transform(knn_df['competition_type'])"
   ]
  },
  {
   "cell_type": "code",
   "execution_count": 82,
   "id": "1a585e71-c4f2-4453-97fc-56837a30912a",
   "metadata": {},
   "outputs": [
    {
     "name": "stdout",
     "output_type": "stream",
     "text": [
      "[' Bremer Brucke' 'AFAS Stadion' 'AMEX Stadium' 'Aalborg Portland Park'\n",
      " 'Allianz Arena' 'Allianz Riviera' 'Anfield'\n",
      " 'Argosstadion Achter de Kazerne' 'Audi Sportpark' 'BUKO Stadion'\n",
      " 'BayArena' 'Blue Water Arena' 'Bramall Lane' 'Brondby Stadium'\n",
      " 'Carrow Road' 'Cegeka Arena' 'Celtic Park' 'Ceres Park'\n",
      " 'Civitas Metropolitano' 'Commerzbank Arena'\n",
      " 'Constant Vanden Stock Stadion' 'Craven Cottage' 'DS Arena'\n",
      " 'Daknamstadion' 'Decathlon Arena-Stade Pierre-Mauroy' 'Diaz Arena'\n",
      " 'Dreisamstadion' 'Edmund-Plambeck-Stadion' 'Ernst-Abbe-Sportfeld'\n",
      " 'Erve Asito' 'Etihad Stadium' 'Euroborg' 'Fortuna Sittard Stadion'\n",
      " 'Freethielstadion' 'Friedrich Ludwig Jahn Sportpark'\n",
      " 'GP Stadion am Hardtwald' 'Ghelamco Arena' 'Groupama Stadium'\n",
      " 'Guldensporenstadion' 'Heinz-von-Heiden-Arena' 'Helsingor Stadium'\n",
      " 'Herfolge stadium' 'Het Kuipje' 'Home Deluxe Arena' 'JYSK Park'\n",
      " 'Jahnstadion Regensburg' 'Jan-Breydel-Stadion' 'Johan Cruijff ArenA'\n",
      " 'King Power Stadium' 'Koning Willem II Stadion' 'Le Canonnier'\n",
      " 'Leimbachstadion' 'MCH Arena' 'MERKUR SPIEL-ARENA' 'MHPArena Stuttgart'\n",
      " 'MSV-Arena' 'Maksimir' 'Mapei Stadium - Citta del Tricolore'\n",
      " 'Matmut Atlantique' 'Maurice Dufrasne Stadion' 'Max-Morlock-Stadion'\n",
      " 'McDiarmid Park' 'Mercedes-Benz Arena' 'Merck-Stadion am Bollenfalltor'\n",
      " 'Mestalla' 'Mewa Arena' 'Millerntor-Stadion' 'NSK Olimpisky'\n",
      " 'Nature Energy Park' 'Nord Energi Arena' 'Nordstern Arena Horsens'\n",
      " 'Olympiastadion Berlin' 'Olympisch Stadion' 'Ose Alvalade Stadium '\n",
      " 'Parc des Princes' 'Parken' 'Parkstad Limburg Stadion' 'Partizan Stadion'\n",
      " 'Philips Stadion' 'PreZero Arena' 'RZD Arena' 'Rat Verlegh Stadion'\n",
      " 'Red Bull Arena' 'Regenboogstadion' 'RheinEnergieSTADION'\n",
      " 'Right to Dream Park' 'Roazhon Park' 'SIGNAL IDUNA PARK'\n",
      " 'Santiago Bernabeu' 'Selhurst Park' 'Soffy Road'\n",
      " 'Sparta-stadion \"Het Kasteel\"' 'Sportpark Ronhof | Thomas Sommer'\n",
      " \"St Mary's Stadium\" 'Stade Ange-Casanova' 'Stade Armand-Cesari'\n",
      " 'Stade Auguste-Delaune' 'Stade Credit Agricole la Licorne'\n",
      " 'Stade Francis Le Ble' 'Stade Geoffroy-Guichard' 'Stade Saint-Symphorien'\n",
      " 'Stade de Gerland' 'Stade du Pays de Charleroi' 'Stade du Roudourou'\n",
      " 'Stadion Feyenoord \"De Kuip\"' 'Stadion im Borussia-Park'\n",
      " 'Stadium Municipal' 'Stadium of Light' 'Stamford Bridge' 'Sydbank Park'\n",
      " 'The SMISA Stadium' 'Turf Moor'\n",
      " 'Universiade Center, New Shenzhen Stadium' 'Vejle Stadion'\n",
      " 'Veltins-Arena' 'Vicarage Road' 'Villa Park' 'Vodafone Park'\n",
      " 'Volksparkstadion' 'Volkswagen Arena' 'WWK ARENA' 'Wembley Stadium'\n",
      " 'Wohninvest-Weserstadion' 'schuco arena']\n"
     ]
    }
   ],
   "source": [
    "#encoding for stadium variable\n",
    "purpose_encoder = preprocessing.LabelEncoder()\n",
    "purpose_encoder.fit(knn_df['stadium'])\n",
    "print(purpose_encoder.classes_)\n",
    "knn_df['stadium.enc']=purpose_encoder.transform(knn_df['stadium'])"
   ]
  },
  {
   "cell_type": "code",
   "execution_count": 84,
   "id": "ac002980-1cc9-41eb-8452-cfc75f3c9c8b",
   "metadata": {},
   "outputs": [
    {
     "name": "stdout",
     "output_type": "stream",
     "text": [
      "['Andrija Novakovich' 'Caleb Stanko' 'Christian Cappis'\n",
      " 'Christian Pulisic' 'Desevio Payne' 'Emmanuel Sabbi' 'Erik Palmer-Brown'\n",
      " 'Giovanni Reyna' 'John Anthony Brooks' 'Jonathan Amon' 'Jordan'\n",
      " 'Joseph Efford' 'Josh Sargent' 'Julian Green' 'Kenny Saief'\n",
      " 'Luca de la Torre' 'Lynden Gooch' 'Sergino Dest' 'Terrence Boyd'\n",
      " 'Tim Ream' 'Timothy Chandler' 'Timothy Weah' 'Tyler Adams'\n",
      " 'Weston McKennie']\n"
     ]
    }
   ],
   "source": [
    "#encoding for player_name_y variable\n",
    "purpose_encoder = preprocessing.LabelEncoder()\n",
    "purpose_encoder.fit(knn_df['player_name_y'])\n",
    "print(purpose_encoder.classes_)\n",
    "knn_df['player_name_y.enc']=purpose_encoder.transform(knn_df['player_name_y'])"
   ]
  },
  {
   "cell_type": "code",
   "execution_count": 86,
   "id": "79f9e8c7-51fe-4829-be70-eed265c9f672",
   "metadata": {},
   "outputs": [
    {
     "name": "stdout",
     "output_type": "stream",
     "text": [
      "number of unique values:[log1_df['attendance_c'].unique()]\n"
     ]
    }
   ],
   "source": [
    "#define categories(bins) and labels for attendance column\n",
    "knn_df['attendance_c']=np.where(knn_df['attendance']>knn_df['attendance'].median(),'High attendance','low attendance')\n",
    "#print the number of unique values\n",
    "print(f\"number of unique values:[log1_df['attendance_c'].unique()]\")"
   ]
  },
  {
   "cell_type": "code",
   "execution_count": 88,
   "id": "c66e280f-ad2d-4c5a-baaa-8c1a60af6b9f",
   "metadata": {},
   "outputs": [
    {
     "name": "stdout",
     "output_type": "stream",
     "text": [
      "['High attendance' 'low attendance']\n"
     ]
    }
   ],
   "source": [
    "#encoding for attendance_c variable\n",
    "purpose_encoder = preprocessing.LabelEncoder()\n",
    "purpose_encoder.fit(knn_df['attendance_c'])\n",
    "print(purpose_encoder.classes_)\n",
    "knn_df['attendance.enc']=purpose_encoder.transform(knn_df['attendance_c'])"
   ]
  },
  {
   "cell_type": "code",
   "execution_count": 90,
   "id": "9b0abc59-c0e3-4728-81db-e31ef72123e1",
   "metadata": {},
   "outputs": [
    {
     "data": {
      "text/html": [
       "<div>\n",
       "<style scoped>\n",
       "    .dataframe tbody tr th:only-of-type {\n",
       "        vertical-align: middle;\n",
       "    }\n",
       "\n",
       "    .dataframe tbody tr th {\n",
       "        vertical-align: top;\n",
       "    }\n",
       "\n",
       "    .dataframe thead th {\n",
       "        text-align: right;\n",
       "    }\n",
       "</style>\n",
       "<table border=\"1\" class=\"dataframe\">\n",
       "  <thead>\n",
       "    <tr style=\"text-align: right;\">\n",
       "      <th></th>\n",
       "      <th>goals</th>\n",
       "      <th>season</th>\n",
       "      <th>competition_type.enc</th>\n",
       "      <th>stadium.enc</th>\n",
       "      <th>player_name_y.enc</th>\n",
       "      <th>attendance_c</th>\n",
       "      <th>attendance.enc</th>\n",
       "    </tr>\n",
       "  </thead>\n",
       "  <tbody>\n",
       "    <tr>\n",
       "      <th>0</th>\n",
       "      <td>0</td>\n",
       "      <td>2012</td>\n",
       "      <td>1</td>\n",
       "      <td>60</td>\n",
       "      <td>20</td>\n",
       "      <td>High attendance</td>\n",
       "      <td>0</td>\n",
       "    </tr>\n",
       "    <tr>\n",
       "      <th>1</th>\n",
       "      <td>0</td>\n",
       "      <td>2012</td>\n",
       "      <td>1</td>\n",
       "      <td>60</td>\n",
       "      <td>20</td>\n",
       "      <td>High attendance</td>\n",
       "      <td>0</td>\n",
       "    </tr>\n",
       "    <tr>\n",
       "      <th>2</th>\n",
       "      <td>0</td>\n",
       "      <td>2012</td>\n",
       "      <td>1</td>\n",
       "      <td>60</td>\n",
       "      <td>20</td>\n",
       "      <td>High attendance</td>\n",
       "      <td>0</td>\n",
       "    </tr>\n",
       "    <tr>\n",
       "      <th>3</th>\n",
       "      <td>0</td>\n",
       "      <td>2012</td>\n",
       "      <td>1</td>\n",
       "      <td>60</td>\n",
       "      <td>20</td>\n",
       "      <td>High attendance</td>\n",
       "      <td>0</td>\n",
       "    </tr>\n",
       "    <tr>\n",
       "      <th>4</th>\n",
       "      <td>0</td>\n",
       "      <td>2012</td>\n",
       "      <td>1</td>\n",
       "      <td>60</td>\n",
       "      <td>20</td>\n",
       "      <td>High attendance</td>\n",
       "      <td>0</td>\n",
       "    </tr>\n",
       "    <tr>\n",
       "      <th>...</th>\n",
       "      <td>...</td>\n",
       "      <td>...</td>\n",
       "      <td>...</td>\n",
       "      <td>...</td>\n",
       "      <td>...</td>\n",
       "      <td>...</td>\n",
       "      <td>...</td>\n",
       "    </tr>\n",
       "    <tr>\n",
       "      <th>4194</th>\n",
       "      <td>1</td>\n",
       "      <td>2020</td>\n",
       "      <td>1</td>\n",
       "      <td>72</td>\n",
       "      <td>11</td>\n",
       "      <td>low attendance</td>\n",
       "      <td>1</td>\n",
       "    </tr>\n",
       "    <tr>\n",
       "      <th>4195</th>\n",
       "      <td>1</td>\n",
       "      <td>2020</td>\n",
       "      <td>1</td>\n",
       "      <td>72</td>\n",
       "      <td>11</td>\n",
       "      <td>low attendance</td>\n",
       "      <td>1</td>\n",
       "    </tr>\n",
       "    <tr>\n",
       "      <th>4196</th>\n",
       "      <td>1</td>\n",
       "      <td>2020</td>\n",
       "      <td>1</td>\n",
       "      <td>72</td>\n",
       "      <td>11</td>\n",
       "      <td>low attendance</td>\n",
       "      <td>1</td>\n",
       "    </tr>\n",
       "    <tr>\n",
       "      <th>4197</th>\n",
       "      <td>1</td>\n",
       "      <td>2020</td>\n",
       "      <td>1</td>\n",
       "      <td>72</td>\n",
       "      <td>11</td>\n",
       "      <td>low attendance</td>\n",
       "      <td>1</td>\n",
       "    </tr>\n",
       "    <tr>\n",
       "      <th>4198</th>\n",
       "      <td>1</td>\n",
       "      <td>2020</td>\n",
       "      <td>1</td>\n",
       "      <td>72</td>\n",
       "      <td>11</td>\n",
       "      <td>low attendance</td>\n",
       "      <td>1</td>\n",
       "    </tr>\n",
       "  </tbody>\n",
       "</table>\n",
       "<p>4199 rows × 7 columns</p>\n",
       "</div>"
      ],
      "text/plain": [
       "      goals  season  competition_type.enc  stadium.enc  player_name_y.enc  \\\n",
       "0         0    2012                     1           60                 20   \n",
       "1         0    2012                     1           60                 20   \n",
       "2         0    2012                     1           60                 20   \n",
       "3         0    2012                     1           60                 20   \n",
       "4         0    2012                     1           60                 20   \n",
       "...     ...     ...                   ...          ...                ...   \n",
       "4194      1    2020                     1           72                 11   \n",
       "4195      1    2020                     1           72                 11   \n",
       "4196      1    2020                     1           72                 11   \n",
       "4197      1    2020                     1           72                 11   \n",
       "4198      1    2020                     1           72                 11   \n",
       "\n",
       "         attendance_c  attendance.enc  \n",
       "0     High attendance               0  \n",
       "1     High attendance               0  \n",
       "2     High attendance               0  \n",
       "3     High attendance               0  \n",
       "4     High attendance               0  \n",
       "...               ...             ...  \n",
       "4194   low attendance               1  \n",
       "4195   low attendance               1  \n",
       "4196   low attendance               1  \n",
       "4197   low attendance               1  \n",
       "4198   low attendance               1  \n",
       "\n",
       "[4199 rows x 7 columns]"
      ]
     },
     "execution_count": 90,
     "metadata": {},
     "output_type": "execute_result"
    }
   ],
   "source": [
    "#removing competition_type,stadium,player_name_y,attendance columns from the data\n",
    "columns_to_drop = [\"competition_type\",\"stadium\",\"player_name_y\",\"attendance\"]\n",
    "knn_df = knn_df.drop(columns_to_drop,axis=1)\n",
    "knn_df"
   ]
  },
  {
   "cell_type": "code",
   "execution_count": 92,
   "id": "87c98998-dd9a-44c2-bdd7-86ae54a11a62",
   "metadata": {},
   "outputs": [],
   "source": [
    "#retrieving competition_type.enc and attendance.enc column from the dataset and storing into anothet dataframe\n",
    "attcomp_col_df = pd.DataFrame(knn_df[['attendance.enc','competition_type.enc']])\n",
    "\n",
    "#removing attendance.enc and column from the dataset as scaling is not required for this column\n",
    "df2 = pd.DataFrame(knn_df.drop(['attendance.enc','competition_type.enc'],axis=1))"
   ]
  },
  {
   "cell_type": "code",
   "execution_count": 94,
   "id": "ac0b4ed9-f984-47e2-abb8-a6df941b9d3d",
   "metadata": {},
   "outputs": [
    {
     "data": {
      "image/png": "[encoded data removed]",
      "text/plain": [
       "<Figure size 2000x600 with 1 Axes>"
      ]
     },
     "metadata": {},
     "output_type": "display_data"
    }
   ],
   "source": [
    "#outlier assessment\n",
    "sns.boxplot(data=df2)\n",
    "plt.gcf().set_size_inches(20,6)\n",
    "plt.xticks(rotation=90)\n",
    "plt.show()"
   ]
  },
  {
   "cell_type": "code",
   "execution_count": 95,
   "id": "409eba54-132e-4492-a2ce-d817a44ce3fd",
   "metadata": {},
   "outputs": [
    {
     "name": "stdout",
     "output_type": "stream",
     "text": [
      "      goals  season  stadium.enc  player_name_y.enc\n",
      "0       0.0    2014           60               20.0\n",
      "1       0.0    2014           60               20.0\n",
      "2       0.0    2014           60               20.0\n",
      "3       0.0    2014           60               20.0\n",
      "4       0.0    2014           60               20.0\n",
      "...     ...     ...          ...                ...\n",
      "4194    1.0    2020           72               11.0\n",
      "4195    1.0    2020           72               11.0\n",
      "4196    1.0    2020           72               11.0\n",
      "4197    1.0    2020           72               11.0\n",
      "4198    1.0    2020           72               11.0\n",
      "\n",
      "[4199 rows x 4 columns]\n"
     ]
    }
   ],
   "source": [
    "#Outlier Treatment\n",
    "def iqr_winsorization(df,thresh=1.5):\n",
    "  df_numeric = df.select_dtypes(include=[np.number])\n",
    "  columns_to_treat =df_numeric.columns\n",
    "\n",
    "  for col in columns_to_treat:\n",
    "    Q1 =df_numeric[col].quantile(0.25)\n",
    "    Q3 =df_numeric[col].quantile(0.75)\n",
    "    IQR = Q3-Q1\n",
    "    #define fences\n",
    "    lower_fence = Q1-thresh*IQR\n",
    "    upper_fence = Q3+thresh*IQR\n",
    "    #winsorize outliers\n",
    "    df_numeric.loc[df_numeric[col]<lower_fence,col]=lower_fence\n",
    "    df_numeric.loc[df_numeric[col]>upper_fence,col]=upper_fence\n",
    "  return df_numeric\n",
    "df=pd.DataFrame(df2)\n",
    "#perform outlier treatment on all columns\n",
    "treated_df2 = iqr_winsorization(df.copy())\n",
    "print(treated_df2)"
   ]
  },
  {
   "cell_type": "code",
   "execution_count": 96,
   "id": "17e9209d-9cc9-470f-afc6-e5b93b9dd744",
   "metadata": {},
   "outputs": [
    {
     "data": {
      "image/png": "[encoded data removed]",
      "text/plain": [
       "<Figure size 2000x600 with 1 Axes>"
      ]
     },
     "metadata": {},
     "output_type": "display_data"
    }
   ],
   "source": [
    "sns.boxplot(data=treated_df2)\n",
    "plt.gcf().set_size_inches(20,6)\n",
    "plt.xticks(rotation=90)\n",
    "plt.show()"
   ]
  },
  {
   "cell_type": "code",
   "execution_count": 99,
   "id": "7d469846-4b03-4052-bc3c-6619387f6171",
   "metadata": {},
   "outputs": [
    {
     "data": {
      "text/html": [
       "<div>\n",
       "<style scoped>\n",
       "    .dataframe tbody tr th:only-of-type {\n",
       "        vertical-align: middle;\n",
       "    }\n",
       "\n",
       "    .dataframe tbody tr th {\n",
       "        vertical-align: top;\n",
       "    }\n",
       "\n",
       "    .dataframe thead th {\n",
       "        text-align: right;\n",
       "    }\n",
       "</style>\n",
       "<table border=\"1\" class=\"dataframe\">\n",
       "  <thead>\n",
       "    <tr style=\"text-align: right;\">\n",
       "      <th></th>\n",
       "      <th>goals</th>\n",
       "      <th>season</th>\n",
       "      <th>stadium.enc</th>\n",
       "      <th>player_name_y.enc</th>\n",
       "    </tr>\n",
       "  </thead>\n",
       "  <tbody>\n",
       "    <tr>\n",
       "      <th>0</th>\n",
       "      <td>-0.733861</td>\n",
       "      <td>-2.176423</td>\n",
       "      <td>-0.261157</td>\n",
       "      <td>1.544203</td>\n",
       "    </tr>\n",
       "    <tr>\n",
       "      <th>1</th>\n",
       "      <td>-0.733861</td>\n",
       "      <td>-2.176423</td>\n",
       "      <td>-0.261157</td>\n",
       "      <td>1.544203</td>\n",
       "    </tr>\n",
       "    <tr>\n",
       "      <th>2</th>\n",
       "      <td>-0.733861</td>\n",
       "      <td>-2.176423</td>\n",
       "      <td>-0.261157</td>\n",
       "      <td>1.544203</td>\n",
       "    </tr>\n",
       "    <tr>\n",
       "      <th>3</th>\n",
       "      <td>-0.733861</td>\n",
       "      <td>-2.176423</td>\n",
       "      <td>-0.261157</td>\n",
       "      <td>1.544203</td>\n",
       "    </tr>\n",
       "    <tr>\n",
       "      <th>4</th>\n",
       "      <td>-0.733861</td>\n",
       "      <td>-2.176423</td>\n",
       "      <td>-0.261157</td>\n",
       "      <td>1.544203</td>\n",
       "    </tr>\n",
       "  </tbody>\n",
       "</table>\n",
       "</div>"
      ],
      "text/plain": [
       "      goals    season  stadium.enc  player_name_y.enc\n",
       "0 -0.733861 -2.176423    -0.261157           1.544203\n",
       "1 -0.733861 -2.176423    -0.261157           1.544203\n",
       "2 -0.733861 -2.176423    -0.261157           1.544203\n",
       "3 -0.733861 -2.176423    -0.261157           1.544203\n",
       "4 -0.733861 -2.176423    -0.261157           1.544203"
      ]
     },
     "execution_count": 99,
     "metadata": {},
     "output_type": "execute_result"
    }
   ],
   "source": [
    "#Scaling data\n",
    "cols = treated_df2.columns\n",
    "scaler = StandardScaler()\n",
    "df_scaled = scaler.fit_transform(treated_df2)\n",
    "df_scaled = pd.DataFrame(df_scaled,columns=cols)\n",
    "df_scaled.head()"
   ]
  },
  {
   "cell_type": "code",
   "execution_count": 100,
   "id": "0e75e0b7-ce45-490c-80f7-f142866d92b1",
   "metadata": {},
   "outputs": [
    {
     "name": "stdout",
     "output_type": "stream",
     "text": [
      "<class 'pandas.core.frame.DataFrame'>\n",
      "RangeIndex: 4199 entries, 0 to 4198\n",
      "Data columns (total 6 columns):\n",
      " #   Column                Non-Null Count  Dtype  \n",
      "---  ------                --------------  -----  \n",
      " 0   goals                 4199 non-null   float64\n",
      " 1   season                4199 non-null   float64\n",
      " 2   stadium.enc           4199 non-null   float64\n",
      " 3   player_name_y.enc     4199 non-null   float64\n",
      " 4   attendance.enc        4199 non-null   int32  \n",
      " 5   competition_type.enc  4199 non-null   int32  \n",
      "dtypes: float64(4), int32(2)\n",
      "memory usage: 164.2 KB\n"
     ]
    }
   ],
   "source": [
    "#append the competition_type.enc and attendance.enc column to the scaled DataFrame\n",
    "df_scaled = pd.concat([df_scaled,attcomp_col_df],axis=1)\n",
    "df_scaled.info()"
   ]
  },
  {
   "cell_type": "code",
   "execution_count": 102,
   "id": "2b7b6efc-91f4-441c-a146-a7e87985b6e2",
   "metadata": {},
   "outputs": [
    {
     "data": {
      "text/html": [
       "<div>\n",
       "<style scoped>\n",
       "    .dataframe tbody tr th:only-of-type {\n",
       "        vertical-align: middle;\n",
       "    }\n",
       "\n",
       "    .dataframe tbody tr th {\n",
       "        vertical-align: top;\n",
       "    }\n",
       "\n",
       "    .dataframe thead th {\n",
       "        text-align: right;\n",
       "    }\n",
       "</style>\n",
       "<table border=\"1\" class=\"dataframe\">\n",
       "  <thead>\n",
       "    <tr style=\"text-align: right;\">\n",
       "      <th></th>\n",
       "      <th>goals</th>\n",
       "      <th>season</th>\n",
       "      <th>stadium.enc</th>\n",
       "      <th>player_name_y.enc</th>\n",
       "      <th>attendance.enc</th>\n",
       "      <th>competition_type.enc</th>\n",
       "    </tr>\n",
       "  </thead>\n",
       "  <tbody>\n",
       "    <tr>\n",
       "      <th>goals</th>\n",
       "      <td>True</td>\n",
       "      <td>False</td>\n",
       "      <td>False</td>\n",
       "      <td>False</td>\n",
       "      <td>False</td>\n",
       "      <td>False</td>\n",
       "    </tr>\n",
       "    <tr>\n",
       "      <th>season</th>\n",
       "      <td>False</td>\n",
       "      <td>True</td>\n",
       "      <td>False</td>\n",
       "      <td>False</td>\n",
       "      <td>False</td>\n",
       "      <td>False</td>\n",
       "    </tr>\n",
       "    <tr>\n",
       "      <th>stadium.enc</th>\n",
       "      <td>False</td>\n",
       "      <td>False</td>\n",
       "      <td>True</td>\n",
       "      <td>False</td>\n",
       "      <td>False</td>\n",
       "      <td>False</td>\n",
       "    </tr>\n",
       "    <tr>\n",
       "      <th>player_name_y.enc</th>\n",
       "      <td>False</td>\n",
       "      <td>False</td>\n",
       "      <td>False</td>\n",
       "      <td>True</td>\n",
       "      <td>False</td>\n",
       "      <td>False</td>\n",
       "    </tr>\n",
       "    <tr>\n",
       "      <th>attendance.enc</th>\n",
       "      <td>False</td>\n",
       "      <td>False</td>\n",
       "      <td>False</td>\n",
       "      <td>False</td>\n",
       "      <td>True</td>\n",
       "      <td>False</td>\n",
       "    </tr>\n",
       "    <tr>\n",
       "      <th>competition_type.enc</th>\n",
       "      <td>False</td>\n",
       "      <td>False</td>\n",
       "      <td>False</td>\n",
       "      <td>False</td>\n",
       "      <td>False</td>\n",
       "      <td>True</td>\n",
       "    </tr>\n",
       "  </tbody>\n",
       "</table>\n",
       "</div>"
      ],
      "text/plain": [
       "                      goals  season  stadium.enc  player_name_y.enc  \\\n",
       "goals                  True   False        False              False   \n",
       "season                False    True        False              False   \n",
       "stadium.enc           False   False         True              False   \n",
       "player_name_y.enc     False   False        False               True   \n",
       "attendance.enc        False   False        False              False   \n",
       "competition_type.enc  False   False        False              False   \n",
       "\n",
       "                      attendance.enc  competition_type.enc  \n",
       "goals                          False                 False  \n",
       "season                         False                 False  \n",
       "stadium.enc                    False                 False  \n",
       "player_name_y.enc              False                 False  \n",
       "attendance.enc                  True                 False  \n",
       "competition_type.enc           False                  True  "
      ]
     },
     "execution_count": 102,
     "metadata": {},
     "output_type": "execute_result"
    }
   ],
   "source": [
    "#check multicollinearity among independent variables\n",
    "#selecting the cutoff value as 0.7\n",
    "abs(df_scaled.corr())>0.7"
   ]
  },
  {
   "cell_type": "code",
   "execution_count": 105,
   "id": "db2f0932-6e96-4f99-b855-354e8408f069",
   "metadata": {},
   "outputs": [
    {
     "data": {
      "image/png": "[encoded data removed]",
      "text/plain": [
       "<Figure size 1000x600 with 2 Axes>"
      ]
     },
     "metadata": {},
     "output_type": "display_data"
    }
   ],
   "source": [
    "#plotting heatmap\n",
    "fig,ax = plt.subplots(1,1,figsize=(10,6))\n",
    "ax = sns.heatmap(df_scaled.corr(),annot=True,cmap=\"YlGnBu\")\n",
    "plt.show()"
   ]
  },
  {
   "cell_type": "code",
   "execution_count": 107,
   "id": "10d522a9-e3cb-43ec-a088-badf58a8a072",
   "metadata": {},
   "outputs": [
    {
     "name": "stdout",
     "output_type": "stream",
     "text": [
      "size of trainiing dataset:  (3359, 6)\n",
      "size of test dataset:  (840, 6)\n"
     ]
    }
   ],
   "source": [
    "#creating test and training datasets\n",
    "attn_train,attn_test=train_test_split(df_scaled,train_size=0.8,shuffle=True,random_state=0)\n",
    "print(\"size of trainiing dataset: \",attn_train.shape)\n",
    "print(\"size of test dataset: \",attn_test.shape)"
   ]
  },
  {
   "cell_type": "code",
   "execution_count": 108,
   "id": "5f64886e-7dac-4386-9ae8-21cd93a66451",
   "metadata": {},
   "outputs": [
    {
     "data": {
      "text/plain": [
       "((3359, 5), (3359,), (840, 5), (840,))"
      ]
     },
     "execution_count": 108,
     "metadata": {},
     "output_type": "execute_result"
    }
   ],
   "source": [
    "x_train = attn_train.drop(columns='attendance.enc',axis=1)\n",
    "y_train=attn_train['attendance.enc']\n",
    "x_test=attn_test.drop(columns='attendance.enc',axis=1)\n",
    "y_test=attn_test['attendance.enc']\n",
    "x_train.shape,y_train.shape,x_test.shape,y_test.shape"
   ]
  },
  {
   "cell_type": "code",
   "execution_count": 109,
   "id": "d36c63ce-e87e-4f35-9902-20a5fab2a289",
   "metadata": {},
   "outputs": [
    {
     "name": "stdout",
     "output_type": "stream",
     "text": [
      "Minium error:- 0.011904761904761904 at k= 1\n"
     ]
    },
    {
     "data": {
      "image/png": "[encoded data removed]",
      "text/plain": [
       "<Figure size 1000x600 with 1 Axes>"
      ]
     },
     "metadata": {},
     "output_type": "display_data"
    }
   ],
   "source": [
    "#Finding optimal k value\n",
    "from sklearn import neighbors\n",
    "error_rate =[]\n",
    "for i in range(1,7):\n",
    "  clf_food = neighbors.KNeighborsClassifier(n_neighbors=i)\n",
    "  clf_food.fit(x_train,y_train)\n",
    "  pred_i = clf_food.predict(x_test)\n",
    "  error_rate.append(np.mean(pred_i !=y_test))\n",
    "\n",
    "plt.figure(figsize=(10,6))\n",
    "plt.plot(range(1,7),error_rate,color='blue',linestyle=\"dashed\",marker='o',markerfacecolor='red',markersize=10)\n",
    "plt.title('Error rate vs. Kvalue')\n",
    "plt.xlabel('k')\n",
    "plt.ylabel('error Rate')\n",
    "print(\"Minium error:-\",min(error_rate),\"at k=\",error_rate.index(min(error_rate))+1)\n",
    "plt.show()"
   ]
  },
  {
   "cell_type": "code",
   "execution_count": 112,
   "id": "2e14ee74-bdbc-4dc7-b173-12d426f90a09",
   "metadata": {},
   "outputs": [],
   "source": [
    "k=3\n",
    "#Building the model\n",
    "from sklearn import neighbors\n",
    "#learning the classifier\n",
    "clf = neighbors.KNeighborsClassifier(k)\n",
    "clf.fit(x_train,y_train)\n",
    "#using the trained model to predict the outcome of the x_test dataset\n",
    "y_pred = clf.predict(x_test)"
   ]
  },
  {
   "cell_type": "code",
   "execution_count": 116,
   "id": "1d134787-1185-49ac-87e2-20edbc1d1a87",
   "metadata": {},
   "outputs": [
    {
     "name": "stdout",
     "output_type": "stream",
     "text": [
      "[0 1]\n",
      "3\n"
     ]
    }
   ],
   "source": [
    "#model properties\n",
    "print(clf.classes_)\n",
    "print(clf.n_neighbors)"
   ]
  },
  {
   "cell_type": "code",
   "execution_count": 118,
   "id": "d9ee9a7b-a53b-418b-aa16-7b2bd64bc522",
   "metadata": {},
   "outputs": [
    {
     "name": "stdout",
     "output_type": "stream",
     "text": [
      "[[411   1]\n",
      " [ 11 417]]\n",
      "411 1 11 417\n"
     ]
    }
   ],
   "source": [
    "#confusion matrix\n",
    "from sklearn.metrics import confusion_matrix\n",
    "print(confusion_matrix(y_test,y_pred))\n",
    "tn,fp,fn,tp = confusion_matrix(y_test,y_pred).ravel()\n",
    "print(tn,fp,fn,tp)"
   ]
  },
  {
   "cell_type": "code",
   "execution_count": 129,
   "id": "d8733131-e609-4493-b068-e5a8e5edc8bf",
   "metadata": {},
   "outputs": [
    {
     "name": "stdout",
     "output_type": "stream",
     "text": [
      "accuracy: 0.9857142857142858\n",
      "recall: 0.9742990654205608\n",
      "f1-score: 0.9858156028368794\n",
      "precision: 0.9976076555023924\n"
     ]
    }
   ],
   "source": [
    "from sklearn.metrics import recall_score\n",
    "from sklearn.metrics import f1_score\n",
    "from sklearn.metrics import accuracy_score\n",
    "from sklearn.metrics import precision_score\n",
    "print('accuracy:', accuracy_score(y_test, y_pred))#Combining the True positive and true negative cases\n",
    "print('recall:', recall_score(y_test, y_pred)) #Prediction got True negative cases\n",
    "print('f1-score:', f1_score(y_test, y_pred)) #Prediction for True positive cases\n",
    "print('precision:', precision_score(y_test, y_pred))# Prediction fot True positive cases"
   ]
  },
  {
   "cell_type": "code",
   "execution_count": 122,
   "id": "62f679bf-fed5-4c3f-83e7-8e5c48da95f5",
   "metadata": {},
   "outputs": [
    {
     "data": {
      "text/plain": [
       "0.9882667180836584"
      ]
     },
     "execution_count": 122,
     "metadata": {},
     "output_type": "execute_result"
    }
   ],
   "source": [
    "# ROC Score\n",
    "from sklearn.metrics import roc_auc_score\n",
    "roc=roc_auc_score(y_test, clf.predict_proba(x_test)[:,1])\n",
    "roc"
   ]
  },
  {
   "cell_type": "markdown",
   "id": "99ff112e-0add-4b9d-a0a8-81856b6e7199",
   "metadata": {},
   "source": [
    "#### The KNN model exhibits excellent performance with high accuracy (0.9857), recall (0.9743), precision (0.9976), and F1-score (0.9858). The ROC-AUC score of 0.9883 further confirms its strong ability to distinguish between classes. These results suggest that the KNN model is highly effective in classifying the data with minimal misclassifications."
   ]
  },
  {
   "cell_type": "code",
   "execution_count": 127,
   "id": "d4a6fb67-97b1-49fe-aa4f-79aafc5e4e7d",
   "metadata": {},
   "outputs": [
    {
     "data": {
      "text/plain": [
       "<Figure size 1000x800 with 0 Axes>"
      ]
     },
     "metadata": {},
     "output_type": "display_data"
    },
    {
     "data": {
      "image/png": "[encoded data removed]",
      "text/plain": [
       "<Figure size 640x480 with 1 Axes>"
      ]
     },
     "metadata": {},
     "output_type": "display_data"
    }
   ],
   "source": [
    "# ROC curve\n",
    "#from sklearn.metrics import plot_roc_curve\n",
    "#from scikitplot.metrics import plot_roc_curve\n",
    "from sklearn.metrics import RocCurveDisplay\n",
    "plt.figure(figsize=(10,8))\n",
    "RocCurveDisplay.from_estimator(clf, x_test, y_test)\n",
    "plt.plot([0,1],[0,1])\n",
    "plt.show()"
   ]
  },
  {
   "cell_type": "markdown",
   "id": "17aa1232-9935-4510-98b5-f520c57e534b",
   "metadata": {},
   "source": [
    "#### Interpretation:The ROC curve for the KNN classifier demonstrates exceptional performance with an AUC of 0.99. This indicates that the model has a high ability to distinguish between positive and negative classes. The curve closely hugs the top-left corner of the plot, suggesting that the model achieves a high true positive rate (sensitivity) while maintaining a low false positive rate (specificity). This exceptional performance suggests that the KNN model is highly effective in classifying the data.In essence, the ROC curve visually confirms that the KNN classifier is highly accurate and reliable in predicting the positive class."
   ]
  },
  {
   "cell_type": "code",
   "execution_count": null,
   "id": "491b3d3f-d440-4196-af7d-1ec137f3adcc",
   "metadata": {},
   "outputs": [],
   "source": []
  }
 ],
 "metadata": {
  "kernelspec": {
   "display_name": "Python 3 (ipykernel)",
   "language": "python",
   "name": "python3"
  },
  "language_info": {
   "codemirror_mode": {
    "name": "ipython",
    "version": 3
   },
   "file_extension": ".py",
   "mimetype": "text/x-python",
   "name": "python",
   "nbconvert_exporter": "python",
   "pygments_lexer": "ipython3",
   "version": "3.12.4"
  }
 },
 "nbformat": 4,
 "nbformat_minor": 5
}
