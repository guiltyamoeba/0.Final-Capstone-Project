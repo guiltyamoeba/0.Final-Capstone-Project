{
 "cells": [
  {
   "cell_type": "markdown",
   "id": "09f75e38-5daa-4196-ac65-078693876fd0",
   "metadata": {},
   "source": [
    "# 1. Performance Analysis\n",
    "#### Objectives:\n",
    "#### a) Evaluate and analyze player performance based on various metrics such as goals, assists, yellow cards, red cards, and minutes played.\n",
    "#### b) Assess team performance in terms of home and away goals, club positions, and manager influence.\n",
    "#### Business Questions:\n",
    "#### 1. Evaluate and analyze player performance based on various metrics such as goals, assists.\n",
    "#### 2. Assess team performance in terms of home and away goals.\n",
    "#### 3. How do yellow and red card counts correlate with overall player performance?\n",
    "#### 4. How does the distribution of yellow cards vary across different player positions?\n",
    "#### 5.What is the average number of goals scored by home clubs versus away clubs?\n",
    "#### 6. How does a manager's history influence the team's performance in terms of goals scored?"
   ]
  },
  {
   "cell_type": "markdown",
   "id": "e5995938-7ea5-49d8-8022-5e35e5f6e8e2",
   "metadata": {},
   "source": [
    "# 2. Player Profile and Market Value\n",
    "#### Objectives:\n",
    "#### a) Analyze the relationship between player attributes (e.g., age, height, position) and their market value\n",
    "#### b) Track changes in market value over time to identify trends and potential investment opportunities.\n",
    "#### Business Questions:\n",
    "#### 1.Calculate the average market value by position.\n",
    "#### 2: What are the key factors influencing a player's market value?\n",
    "#### 3.How does a player's performance in different leagues impact their market value?\n",
    "#### 4.Track changes in market value over time to identify trends and potential investment opportunities."
   ]
  },
  {
   "cell_type": "markdown",
   "id": "ee18d476-48ca-4e04-aedf-8c222796aa3d",
   "metadata": {},
   "source": [
    "# 3. Team Comparison\n",
    "### Objectives:\n",
    "#### a) Compare team performance metrics such as goals scored, positions in the league, and win/loss records\n",
    "#### b) Analyze head-to-head performance between teams to identify strengths and weakness\n",
    "#### Business Questions:\n",
    "#### 1.Which team has a higher average number of goals scored per game?\n",
    "#### 2.Which team has a better defensive record?\n",
    "#### 3.What are average goals conceded per game by team?\n",
    "#### 4.What is the correlation between goals scored and attendance?\n",
    "#### 5. How is the distribution of goals scored by different teams across all matches?\n",
    "#### 6.Which managers have the highest win rates based on match outcomes?"
   ]
  },
  {
   "cell_type": "markdown",
   "id": "1e5f34df-9a6e-44a9-ac3c-a374c3009872",
   "metadata": {},
   "source": [
    "# 4. Attendance and Stadium Analysis\n",
    "### Objectives:\n",
    "#### a) Analyze attendance trends over different competitions and seasons\n",
    "#### b) Evaluate the impact of stadium capacity on attendance figure\n",
    "#### 1.Which stadium has the highest average attendance?\n",
    "#### 2.Which competition type has the highest average attendance?\n",
    "#### 3.How has the average attendance changed over the years?\n",
    "#### 4.Which stadium has hosted the most games?\n"
   ]
  },
  {
   "cell_type": "markdown",
   "id": "45f4f609-2717-4109-8694-040c2f9681b8",
   "metadata": {},
   "source": [
    "# 5. Referee Analysis\n",
    "#### Objectives\n",
    "#### a) Assess referee performance based on the number of cards issued during matches they official.\n",
    "#### b) Analyze any patterns or biases in referee decisions across different competitions.\n",
    "#### Business Questions:\n",
    "#### 1.Which referee has issued the most yellow cards?\n",
    "#### 2.Which referee refrered games most?"
   ]
  },
  {
   "cell_type": "markdown",
   "id": "7615fba4-4cd5-43a5-b5eb-1b9380677978",
   "metadata": {},
   "source": [
    "# 6. Substitution patterns\n",
    "#### a) Analyze substitution patterns to understand tactical decisions made during games.\n",
    "#### b) Evaluate the impact of substitutions on match outcom\n",
    "#### Business Questions:\n",
    "#### 1.What is the average number of substitutions in Game ID X?\n",
    "#### 2.Which positions are most commonly substituted in this dataset?"
   ]
  },
  {
   "cell_type": "markdown",
   "id": "8a19a67e-f140-4791-a364-b956f16e54d7",
   "metadata": {},
   "source": [
    "# 7. Event Analysis\n",
    "#### Objectves:\n",
    "#### a) Examine key game events (goals, assists, cards) to determine their impact  on match results.\n",
    "#### b) Identify trends in player involvement in significant events.\n",
    "#### Business Questions:\n",
    "#### 1.How do the number of fouls or penalties vary by the outcome of the match (win, loss, draw)?\n",
    "#### 2.Which players contribute the most to their team in terms of goals, assists, and cards?"
   ]
  },
  {
   "cell_type": "markdown",
   "id": "c827a148-f657-4f50-8f40-3407b0d29fac",
   "metadata": {},
   "source": [
    "# 8. Competition Analysis\n",
    "#### Objectives:\n",
    "#### a) Compare performance across different competitions\n",
    "#### b) Analyze how competition type influences player performance metrics\n",
    "#### Business Questions:\n",
    "#### 1.How are goals scored in differetnt competitions?\n",
    "#### 2.What is the relationship between the number of goals scored and market value?\n",
    "#### 3.Which stadium has highest attendance based on competition id?c#### 4.Which player has highest market value in each competitions."
   ]
  },
  {
   "cell_type": "markdown",
   "id": "70001cf2-483c-4b4b-b0e2-f97e0325644b",
   "metadata": {},
   "source": [
    "# 9. Player Attributes and Demographics\n",
    "#### Objectives:\n",
    "#### a) Analyze how demographic factors (age, height, country of birth) affect player peformance\n",
    "#### b) Understand how player attributes influence their roles within teams\n",
    "#### Business Questions:\n",
    "#### 1.What is the distribution of players ge and assists?\n",
    "#### 2.What is players age and position wie market value?\n",
    "#### 3.How does height of players vary by position?"
   ]
  },
  {
   "cell_type": "markdown",
   "id": "695d0e50-aa1e-4017-bc5a-b419365f73aa",
   "metadata": {},
   "source": [
    "# 10. Contract management\n",
    "#### Objectives:\n",
    "#### a) Monitor contract expiration dates to manage player retention strategiesffectively\n",
    "#### b) Analyze how contract lengths correlate with player performance metrics\n",
    "#### Business Questions:\n",
    "#### 1.Who are the top players with highest contract duration?\n",
    "#### 2.How do the projected average market value, goals, and assists of a player change as their contract expiration date approaches?\n",
    "#### 3.What is the distribution of player contract values."
   ]
  }
 ],
 "metadata": {
  "kernelspec": {
   "display_name": "Python 3 (ipykernel)",
   "language": "python",
   "name": "python3"
  },
  "language_info": {
   "codemirror_mode": {
    "name": "ipython",
    "version": 3
   },
   "file_extension": ".py",
   "mimetype": "text/x-python",
   "name": "python",
   "nbconvert_exporter": "python",
   "pygments_lexer": "ipython3",
   "version": "3.12.4"
  }
 },
 "nbformat": 4,
 "nbformat_minor": 5
}
